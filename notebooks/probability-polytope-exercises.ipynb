{
 "cells": [
  {
   "cell_type": "markdown",
   "metadata": {},
   "source": [
    "# Exercises for probability polytopes\n"
   ]
  },
  {
   "cell_type": "code",
   "execution_count": 4,
   "metadata": {},
   "outputs": [],
   "source": [
    "import os\n",
    "from pathlib import Path\n",
    "\n",
    "from itertools import product\n",
    "from math import floor\n",
    "\n",
    "import numpy as np\n",
    "import pandas as pd\n",
    "\n",
    "import matplotlib.pyplot as plt\n",
    "\n",
    "%matplotlib inline"
   ]
  },
  {
   "cell_type": "markdown",
   "metadata": {},
   "source": [
    "## Probability polytopes exercise: probability simplex\n",
    "\n",
    "* Describe in words and mathematical notation what the method `fake_data_for_learning.utils.get_simplex_sample` does. Difficulty: *\n",
    "\n",
    "* Test if the method `fake_data_for_learning.utils.get_simplex_sample` generates uniformly distributed samples from the probability simplex. Difficulty: **\n",
    "\n",
    "* Test if projecting samples to individual coordinate axes is uniformly distributed. Difficulty: **\n",
    "\n",
    "Answer the same questions for the following two versions. Be sure to consider more than one choice of ambient dimension."
   ]
  },
  {
   "cell_type": "markdown",
   "metadata": {},
   "source": [
    "### First task\n",
    "First, function samples random vector of size $n$ from random uniform distribution on $[0,1]^n$ and then divides the vector by its sum, obtaining a vector which sums up to 1."
   ]
  },
  {
   "cell_type": "code",
   "execution_count": 5,
   "metadata": {},
   "outputs": [],
   "source": [
    "def get_simplex_sample_v1(ambient_dimension):\n",
    "    \"\"\"\n",
    "    Get random element of the simplex of given ambient dimension\n",
    "\n",
    "    Parameters\n",
    "    ----------\n",
    "    ambient_dimension : int\n",
    "\n",
    "    Returns\n",
    "    -------\n",
    "    res : np.array\n",
    "    \"\"\"\n",
    "\n",
    "    res = np.random.uniform(size=ambient_dimension)\n",
    "    res = res / res.sum()\n",
    "\n",
    "    return res\n",
    "\n",
    "\n",
    "def get_simplex_sample_v2(ambient_dimension):\n",
    "    \"\"\"\n",
    "    Get random element of the probability simplex\n",
    "\n",
    "    Parameters\n",
    "    ----------\n",
    "    ambient_dimension : int\n",
    "\n",
    "    Returns\n",
    "    -------\n",
    "    res : np.array\n",
    "    \"\"\"\n",
    "\n",
    "    res = np.random.uniform(size=ambient_dimension-1)\n",
    "    res = np.sort(res)\n",
    "    res = np.insert(res, 0, 0)\n",
    "    res = np.append(res, 1)\n",
    "    res = np.diff(res)\n",
    "    \n",
    "    return res"
   ]
  },
  {
   "cell_type": "code",
   "execution_count": 9,
   "metadata": {},
   "outputs": [
    {
     "data": {
      "text/plain": [
       "(array([ 994.,  972., 1002.,  976., 1035., 1017., 1073.,  969.,  988.,\n",
       "         974.]),\n",
       " array([1.18725636e-08, 2.00196729e-05, 4.00274732e-05, 6.00352735e-05,\n",
       "        8.00430738e-05, 1.00050874e-04, 1.20058674e-04, 1.40066475e-04,\n",
       "        1.60074275e-04, 1.80082075e-04, 2.00089876e-04]),\n",
       " <BarContainer object of 10 artists>)"
      ]
     },
     "execution_count": 9,
     "metadata": {},
     "output_type": "execute_result"
    },
    {
     "data": {
      "image/png": "[encoded data removed]",
      "text/plain": [
       "<Figure size 432x288 with 1 Axes>"
      ]
     },
     "metadata": {
      "needs_background": "light"
     },
     "output_type": "display_data"
    }
   ],
   "source": [
    "result = get_simplex_sample_v1(10000)\n",
    "plt.hist(result)"
   ]
  },
  {
   "cell_type": "code",
   "execution_count": 37,
   "metadata": {},
   "outputs": [
    {
     "data": {
      "text/plain": [
       "(array([29., 20., 12., 14.,  6.,  8.,  5.,  1.,  2.,  3.]),\n",
       " array([8.60958028e-06, 3.65247988e-03, 7.29635018e-03, 1.09402205e-02,\n",
       "        1.45840908e-02, 1.82279611e-02, 2.18718314e-02, 2.55157017e-02,\n",
       "        2.91595720e-02, 3.28034423e-02, 3.64473126e-02]),\n",
       " <BarContainer object of 10 artists>)"
      ]
     },
     "execution_count": 37,
     "metadata": {},
     "output_type": "execute_result"
    },
    {
     "data": {
      "image/png": "[encoded data removed]",
      "text/plain": [
       "<Figure size 432x288 with 1 Axes>"
      ]
     },
     "metadata": {
      "needs_background": "light"
     },
     "output_type": "display_data"
    }
   ],
   "source": [
    "result = pd.DataFrame()\n",
    "for i in range(100):\n",
    "    result[i] = get_simplex_sample_v2(100)\n",
    "\n",
    "plt.hist(result[3])"
   ]
  }
 ],
 "metadata": {
  "kernelspec": {
   "display_name": "Python 3 (ipykernel)",
   "language": "python",
   "name": "python3"
  },
  "language_info": {
   "codemirror_mode": {
    "name": "ipython",
    "version": 3
   },
   "file_extension": ".py",
   "mimetype": "text/x-python",
   "name": "python",
   "nbconvert_exporter": "python",
   "pygments_lexer": "ipython3",
   "version": "3.8.4"
  }
 },
 "nbformat": 4,
 "nbformat_minor": 2
}
