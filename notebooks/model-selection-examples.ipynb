{
 "cells": [
  {
   "cell_type": "markdown",
   "metadata": {},
   "source": [
    "## Model selection\n",
    "\n",
    "### Topics\n",
    "\n",
    "Out of scope: [feature engineering](https://en.wikipedia.org/wiki/Feature_engineering); we assume we already have good enough features.\n",
    "\n",
    "### DRY-violation warning\n",
    "\n",
    "Note: the code below is to demonstrate the model selection pipeline of [risk_learning/model_selection/run-pipeline.py](..risk_learning/model_selection/run-pipeline.py), in violation of the DRY or [Do Not Repeat Yourself](https://en.wikipedia.org/wiki/Don't_repeat_yourself) principle.\n",
    "\n",
    "See this repository's [commit history](https://github.com/munichpavel/risk-ai-workshop/commits/main), especially the [before](https://github.com/munichpavel/risk-ai-workshop/tree/ddbf4e07f25a51796bf5871bd595cefd8f870ba7/notebooks/model-selection-examples.ipynb) and [after](https://github.com/munichpavel/risk-ai-workshop/blob/2777d1ec4ab3fd9a3376fbdee3597dc2de1e38f1/notebooks/model-selection-examples.ipynb) commits of this notebook for examples of errors resulting from DRY violations."
   ]
  },
  {
   "cell_type": "code",
   "execution_count": 1,
   "metadata": {},
   "outputs": [],
   "source": [
    "import os\n",
    "from pathlib import Path\n",
    "\n",
    "import pandas as pd\n",
    "from pandas.api.types import CategoricalDtype\n",
    "import numpy as np\n",
    "import xarray as xr\n",
    "\n",
    "from sklearn.model_selection import train_test_split\n",
    "from sklearn.linear_model import LogisticRegression\n",
    "from sklearn.tree import DecisionTreeClassifier\n",
    "from sklearn import tree\n",
    "from sklearn.ensemble import RandomForestClassifier\n",
    "\n",
    "from sklearn.metrics import average_precision_score\n",
    "\n",
    "from scipy.stats import pearsonr\n",
    "\n",
    "import matplotlib.pyplot as plt\n",
    "\n",
    "from fake_data_for_learning.contingency_tables import calculate_contingency_table\n",
    "\n",
    "from risk_learning.simpson import (\n",
    "    get_flat_combinations, \n",
    "    make_feature_combination_score_array,\n",
    "    compute_margin\n",
    ")"
   ]
  },
  {
   "cell_type": "code",
   "execution_count": 2,
   "metadata": {},
   "outputs": [
    {
     "name": "stdout",
     "output_type": "stream",
     "text": [
      "Shape of entire dataset: (10000, 4)\n"
     ]
    },
    {
     "data": {
      "text/html": [
       "<div>\n",
       "<style scoped>\n",
       "    .dataframe tbody tr th:only-of-type {\n",
       "        vertical-align: middle;\n",
       "    }\n",
       "\n",
       "    .dataframe tbody tr th {\n",
       "        vertical-align: top;\n",
       "    }\n",
       "\n",
       "    .dataframe thead th {\n",
       "        text-align: right;\n",
       "    }\n",
       "</style>\n",
       "<table border=\"1\" class=\"dataframe\">\n",
       "  <thead>\n",
       "    <tr style=\"text-align: right;\">\n",
       "      <th></th>\n",
       "      <th>gender</th>\n",
       "      <th>occupation</th>\n",
       "      <th>activity</th>\n",
       "      <th>default</th>\n",
       "    </tr>\n",
       "  </thead>\n",
       "  <tbody>\n",
       "    <tr>\n",
       "      <th>0</th>\n",
       "      <td>1</td>\n",
       "      <td>1</td>\n",
       "      <td>0</td>\n",
       "      <td>0</td>\n",
       "    </tr>\n",
       "    <tr>\n",
       "      <th>1</th>\n",
       "      <td>1</td>\n",
       "      <td>1</td>\n",
       "      <td>0</td>\n",
       "      <td>0</td>\n",
       "    </tr>\n",
       "    <tr>\n",
       "      <th>2</th>\n",
       "      <td>1</td>\n",
       "      <td>1</td>\n",
       "      <td>0</td>\n",
       "      <td>0</td>\n",
       "    </tr>\n",
       "    <tr>\n",
       "      <th>3</th>\n",
       "      <td>0</td>\n",
       "      <td>0</td>\n",
       "      <td>1</td>\n",
       "      <td>1</td>\n",
       "    </tr>\n",
       "    <tr>\n",
       "      <th>4</th>\n",
       "      <td>1</td>\n",
       "      <td>1</td>\n",
       "      <td>0</td>\n",
       "      <td>0</td>\n",
       "    </tr>\n",
       "  </tbody>\n",
       "</table>\n",
       "</div>"
      ],
      "text/plain": [
       "   gender  occupation  activity  default\n",
       "0       1           1         0        0\n",
       "1       1           1         0        0\n",
       "2       1           1         0        0\n",
       "3       0           0         1        1\n",
       "4       1           1         0        0"
      ]
     },
     "execution_count": 2,
     "metadata": {},
     "output_type": "execute_result"
    }
   ],
   "source": [
    "data_dir = Path(os.getcwd()) / 'data'\n",
    "file_read_params = dict(delimiter=',')\n",
    "target_col = 'default'\n",
    "non_target_cols = ['gender', 'occupation', 'activity']\n",
    "#non_target_cols = ['gender']\n",
    "df = pd.read_csv(\n",
    "    data_dir / 'default.csv', **file_read_params,\n",
    "    usecols=non_target_cols + [target_col]\n",
    ")\n",
    "print(f'Shape of entire dataset: {df.shape}')\n",
    "df.head()"
   ]
  },
  {
   "cell_type": "markdown",
   "metadata": {},
   "source": [
    "## Split data for model fitting"
   ]
  },
  {
   "cell_type": "code",
   "execution_count": 3,
   "metadata": {},
   "outputs": [],
   "source": [
    "train_ratio = 0.4\n",
    "test_ratio = 0.2\n",
    "\n",
    "data_split_seed = 42\n",
    "X = df[non_target_cols]\n",
    "y = df[target_col]\n",
    "\n",
    "# Split into train + validation  / test sets\n",
    "X_train_validate, X_test, y_train_validate, y_test = train_test_split(\n",
    "    X, y, test_size=test_ratio, random_state=data_split_seed\n",
    ")\n",
    "\n",
    "train_ratio_after_test_split = train_ratio / (1 - test_ratio)\n",
    "X_train, X_validate, y_train, y_validate = train_test_split(\n",
    "    X_train_validate, y_train_validate,\n",
    "    train_size=train_ratio_after_test_split,\n",
    "    random_state=data_split_seed\n",
    ")"
   ]
  },
  {
   "cell_type": "markdown",
   "metadata": {},
   "source": [
    "### A little Exploratory Data Analysis\n",
    "\n",
    "Very little."
   ]
  },
  {
   "cell_type": "code",
   "execution_count": 4,
   "metadata": {},
   "outputs": [],
   "source": [
    "# Value ranges can be guessed from data or extracted from IT system\n",
    "default_values = [0, 1]\n",
    "gender_values = [0, 1]\n",
    "occupation_values = [0, 1]\n",
    "activity_values = [0, 1]\n",
    "data_categories = dict(\n",
    "    default=CategoricalDtype(categories=default_values, ordered=True),\n",
    "    gender=CategoricalDtype(categories=gender_values, ordered=True),\n",
    "    occupation=CategoricalDtype(categories=occupation_values, ordered=True),\n",
    "    activity=CategoricalDtype(categories=activity_values, ordered=True)\n",
    ")\n",
    "\n",
    "# Recombine \n",
    "X_y_train = X_train.copy()\n",
    "X_y_train['default'] = y_train.values\n",
    "for column, c_type in data_categories.items():\n",
    "    X_y_train[column] = X_y_train[column].astype(c_type)\n",
    "    \n",
    "contingency_table = calculate_contingency_table(X_y_train[data_categories.keys()])"
   ]
  },
  {
   "cell_type": "markdown",
   "metadata": {},
   "source": [
    "#### Simpson's paradox example"
   ]
  },
  {
   "cell_type": "code",
   "execution_count": 5,
   "metadata": {},
   "outputs": [
    {
     "name": "stdout",
     "output_type": "stream",
     "text": [
      "\n",
      "female empirical default rate 0.39509394572025053\n",
      "male empirical default rate 0.30230326295585414\n"
     ]
    }
   ],
   "source": [
    "female_default_rate = (\n",
    "    compute_margin(contingency_table, dict(default=1, gender=0 )) \n",
    "    / compute_margin(contingency_table, dict(gender=0))\n",
    ")\n",
    "print('\\nfemale empirical default rate', female_default_rate)\n",
    "male_default_rate = (\n",
    "    compute_margin(contingency_table, dict(default=1, gender=1)) \n",
    "    / compute_margin(contingency_table, dict(gender=1))\n",
    ")\n",
    "print('male empirical default rate', male_default_rate)"
   ]
  },
  {
   "cell_type": "markdown",
   "metadata": {},
   "source": [
    "but in the occupation subpopulations ..."
   ]
  },
  {
   "cell_type": "code",
   "execution_count": 6,
   "metadata": {},
   "outputs": [
    {
     "name": "stdout",
     "output_type": "stream",
     "text": [
      "\n",
      "female education default rate 0.44920525224602625\n",
      "male education default rate 0.46167883211678834\n",
      "female education default higher False\n",
      "\n",
      "female health default rate 0.2281449893390192\n",
      "male health default rate 0.24544270833333334\n",
      "female health default higher False\n"
     ]
    }
   ],
   "source": [
    "female_edu_default_rate = (\n",
    "    compute_margin(contingency_table, dict(default=1, gender=0, occupation=0)) \n",
    "    / compute_margin(contingency_table, dict(gender=0, occupation=0))\n",
    ")\n",
    "print('\\nfemale education default rate', female_edu_default_rate)\n",
    "male_edu_default_rate = (\n",
    "    compute_margin(contingency_table, dict(default=1, gender=1, occupation=0)) \n",
    "    / compute_margin(contingency_table, dict(gender=1, occupation=0))\n",
    ")\n",
    "print('male education default rate', male_edu_default_rate)\n",
    "print('female education default higher', female_edu_default_rate > male_edu_default_rate)\n",
    "\n",
    "female_health_default_rate = (\n",
    "    compute_margin(contingency_table, dict(default=1, gender=0, occupation=1)) \n",
    "    / compute_margin(contingency_table, dict(gender=0, occupation=1))\n",
    ")\n",
    "print('\\nfemale health default rate', female_health_default_rate)\n",
    "male_health_default_rate = (\n",
    "    compute_margin(contingency_table, dict(default=1, gender=1, occupation=1)) \n",
    "    / compute_margin(contingency_table, dict(gender=1, occupation=1))\n",
    ")\n",
    "print('male health default rate', male_health_default_rate)\n",
    "print('female health default higher', female_health_default_rate > male_health_default_rate)"
   ]
  },
  {
   "cell_type": "code",
   "execution_count": 7,
   "metadata": {},
   "outputs": [
    {
     "name": "stderr",
     "output_type": "stream",
     "text": [
      "/var/folders/xf/jv1nj4vd0lb05xfnp6gly8n40000gq/T/ipykernel_42392/1960082336.py:16: FutureWarning: In future versions `DataFrame.to_latex` is expected to utilise the base implementation of `Styler.to_latex` for formatting and rendering. The arguments signature may therefore change. It is recommended instead to use `DataFrame.style.to_latex` which also contains additional functionality.\n",
      "  table_tex = simpson_default_rates_df.to_latex(index=False)\n"
     ]
    }
   ],
   "source": [
    "# Output default rates for use in slides\n",
    "project_root = Path(os.getcwd()).parent\n",
    "slides_dir = project_root / 'slides'\n",
    "graphics_subdir_name = 'graphics'\n",
    "\n",
    "practice_figure_dir = slides_dir / 'risk-and-ai-in-practice' / graphics_subdir_name\n",
    "\n",
    "simpson_default_rates_df = pd.DataFrame(dict(\n",
    "    population=['total', 'education', 'health'],\n",
    "    female=[female_default_rate, female_edu_default_rate, female_health_default_rate],\n",
    "    male=[male_default_rate, male_edu_default_rate, male_health_default_rate]\n",
    "))\n",
    "\n",
    "fn = practice_figure_dir / 'simpson-default-rates.tex'\n",
    "\n",
    "table_tex = simpson_default_rates_df.to_latex(index=False)\n",
    "with open(fn, 'w') as fp:\n",
    "    fp.write(table_tex)"
   ]
  },
  {
   "cell_type": "code",
   "execution_count": 8,
   "metadata": {},
   "outputs": [
    {
     "name": "stdout",
     "output_type": "stream",
     "text": [
      "Correlation of ('gender', 'default'): (-0.09739643139187822, 6.715668341012746e-10)\n",
      "Correlation of ('occupation', 'default'): (-0.221915034655297, 8.14197232642727e-46)\n",
      "Correlation of ('activity', 'default'): (0.9532420824426091, 0.0)\n"
     ]
    },
    {
     "name": "stderr",
     "output_type": "stream",
     "text": [
      "/var/folders/xf/jv1nj4vd0lb05xfnp6gly8n40000gq/T/ipykernel_42392/2842096705.py:12: FutureWarning: In future versions `DataFrame.to_latex` is expected to utilise the base implementation of `Styler.to_latex` for formatting and rendering. The arguments signature may therefore change. It is recommended instead to use `DataFrame.style.to_latex` which also contains additional functionality.\n",
      "  table_tex = correlations_df.to_latex(index=False)\n"
     ]
    }
   ],
   "source": [
    "pairs = [('gender', 'default'), ('occupation', 'default'), ('activity', 'default')]\n",
    "correlation_records = []\n",
    "for pair in pairs:\n",
    "    pearson_corr = pearsonr(X_y_train[pair[0]], X_y_train[pair[1]])\n",
    "    print(f'Correlation of {pair}: {pearson_corr}')\n",
    "    record = [str(pair), pearson_corr[0], pearson_corr[1]]\n",
    "    correlation_records.append(record)\n",
    "    \n",
    "correlations_df = pd.DataFrame(correlation_records, columns=['pair', 'pearson_r', 'p_value'])\n",
    "fn = practice_figure_dir / 'correlation-default-rates.tex'\n",
    "\n",
    "table_tex = correlations_df.to_latex(index=False)\n",
    "with open(fn, 'w') as fp:\n",
    "    fp.write(table_tex)"
   ]
  },
  {
   "cell_type": "code",
   "execution_count": 9,
   "metadata": {},
   "outputs": [],
   "source": [
    "# Other variables uses when evaluating different models\n",
    "gender_values = [0, 1]\n",
    "occupation_values = [0, 1]\n",
    "activity_values = [0, 1]\n",
    "feature_coords = dict(\n",
    "    gender=gender_values,\n",
    "    occupation=occupation_values,\n",
    "    activity=activity_values\n",
    ")\n",
    "feature_combinations = get_flat_combinations(feature_coords)"
   ]
  },
  {
   "cell_type": "markdown",
   "metadata": {},
   "source": [
    "## Fit models to training data and spot-check on validation data"
   ]
  },
  {
   "cell_type": "code",
   "execution_count": 10,
   "metadata": {},
   "outputs": [
    {
     "data": {
      "text/html": [
       "<div>\n",
       "<style scoped>\n",
       "    .dataframe tbody tr th:only-of-type {\n",
       "        vertical-align: middle;\n",
       "    }\n",
       "\n",
       "    .dataframe tbody tr th {\n",
       "        vertical-align: top;\n",
       "    }\n",
       "\n",
       "    .dataframe thead th {\n",
       "        text-align: right;\n",
       "    }\n",
       "</style>\n",
       "<table border=\"1\" class=\"dataframe\">\n",
       "  <thead>\n",
       "    <tr style=\"text-align: right;\">\n",
       "      <th></th>\n",
       "      <th>gender</th>\n",
       "      <th>occupation</th>\n",
       "      <th>activity</th>\n",
       "      <th>default</th>\n",
       "    </tr>\n",
       "  </thead>\n",
       "  <tbody>\n",
       "    <tr>\n",
       "      <th>3188</th>\n",
       "      <td>0</td>\n",
       "      <td>0</td>\n",
       "      <td>1</td>\n",
       "      <td>0</td>\n",
       "    </tr>\n",
       "    <tr>\n",
       "      <th>8293</th>\n",
       "      <td>1</td>\n",
       "      <td>1</td>\n",
       "      <td>1</td>\n",
       "      <td>1</td>\n",
       "    </tr>\n",
       "    <tr>\n",
       "      <th>1710</th>\n",
       "      <td>0</td>\n",
       "      <td>1</td>\n",
       "      <td>0</td>\n",
       "      <td>0</td>\n",
       "    </tr>\n",
       "    <tr>\n",
       "      <th>7510</th>\n",
       "      <td>0</td>\n",
       "      <td>1</td>\n",
       "      <td>1</td>\n",
       "      <td>1</td>\n",
       "    </tr>\n",
       "    <tr>\n",
       "      <th>1461</th>\n",
       "      <td>1</td>\n",
       "      <td>1</td>\n",
       "      <td>1</td>\n",
       "      <td>1</td>\n",
       "    </tr>\n",
       "  </tbody>\n",
       "</table>\n",
       "</div>"
      ],
      "text/plain": [
       "      gender  occupation  activity  default\n",
       "3188       0           0         1        0\n",
       "8293       1           1         1        1\n",
       "1710       0           1         0        0\n",
       "7510       0           1         1        1\n",
       "1461       1           1         1        1"
      ]
     },
     "execution_count": 10,
     "metadata": {},
     "output_type": "execute_result"
    }
   ],
   "source": [
    "first_n = 5\n",
    "model_fitting_seed = 42\n",
    "idxes_first_n = X_validate.index[:first_n]\n",
    "X_validate_first_n = X_validate.loc[idxes_first_n, :]\n",
    "y_validate_first_n = y_validate[:first_n]\n",
    "sample_validate = X_validate_first_n.copy()\n",
    "sample_validate['default'] = y_validate_first_n\n",
    "sample_validate"
   ]
  },
  {
   "cell_type": "markdown",
   "metadata": {},
   "source": [
    "## Logistic regression"
   ]
  },
  {
   "cell_type": "code",
   "execution_count": 11,
   "metadata": {},
   "outputs": [
    {
     "data": {
      "text/plain": [
       "array([[0.06974375, 0.93025625],\n",
       "       [0.10181445, 0.89818555],\n",
       "       [0.98673556, 0.01326444],\n",
       "       [0.08536568, 0.91463432],\n",
       "       [0.10181445, 0.89818555]])"
      ]
     },
     "execution_count": 11,
     "metadata": {},
     "output_type": "execute_result"
    }
   ],
   "source": [
    "hyperparams = {\"C\": 0.2, \"random_state\": model_fitting_seed}\n",
    "clf = LogisticRegression(**hyperparams)\n",
    "clf.fit(X_train, y_train)\n",
    "clf.predict_proba(X_validate_first_n)"
   ]
  },
  {
   "cell_type": "code",
   "execution_count": 12,
   "metadata": {},
   "outputs": [
    {
     "data": {
      "text/plain": [
       "0.9512296208074651"
      ]
     },
     "execution_count": 12,
     "metadata": {},
     "output_type": "execute_result"
    }
   ],
   "source": [
    "scores = clf.predict_proba(X_validate)\n",
    "default_scores = scores[:, 1]\n",
    "average_precision_score(y_validate, default_scores)"
   ]
  },
  {
   "cell_type": "code",
   "execution_count": 13,
   "metadata": {},
   "outputs": [
    {
     "name": "stdout",
     "output_type": "stream",
     "text": [
      "<class 'sklearn.linear_model._logistic.LogisticRegression'> mean scores\n",
      "female: 0.4686535959774924, male: 0.4598168032966624\n"
     ]
    }
   ],
   "source": [
    "# Default scores by gender\n",
    "scores = clf.predict_proba(feature_combinations)[:, 1]\n",
    "score_array = make_feature_combination_score_array(feature_combinations, scores)\n",
    "mean_female_score = score_array.sel(gender=0).mean().values\n",
    "mean_male_score = score_array.sel(gender=1).mean().values\n",
    "print(clf.__class__, 'mean scores')\n",
    "print(f'female: {mean_female_score}, male: {mean_male_score}')"
   ]
  },
  {
   "cell_type": "markdown",
   "metadata": {},
   "source": [
    "## Decision tree"
   ]
  },
  {
   "cell_type": "code",
   "execution_count": 14,
   "metadata": {},
   "outputs": [
    {
     "data": {
      "text/plain": [
       "array([[0.0497076 , 0.9502924 ],\n",
       "       [0.07371007, 0.92628993],\n",
       "       [1.        , 0.        ],\n",
       "       [0.04464286, 0.95535714],\n",
       "       [0.07371007, 0.92628993]])"
      ]
     },
     "execution_count": 14,
     "metadata": {},
     "output_type": "execute_result"
    }
   ],
   "source": [
    "hyperparams = {\n",
    "    \"criterion\": \"gini\", \n",
    "    \"random_state\": model_fitting_seed\n",
    "}\n",
    "clf = DecisionTreeClassifier(**hyperparams)\n",
    "clf.fit(X_train, y_train)\n",
    "clf.predict_proba(X_validate_first_n)"
   ]
  },
  {
   "cell_type": "code",
   "execution_count": 15,
   "metadata": {},
   "outputs": [
    {
     "data": {
      "text/plain": [
       "0.9484309761670509"
      ]
     },
     "execution_count": 15,
     "metadata": {},
     "output_type": "execute_result"
    }
   ],
   "source": [
    "scores = clf.predict_proba(X_validate)\n",
    "default_scores = scores[:, 1]\n",
    "average_precision_score(y_validate, default_scores)"
   ]
  },
  {
   "cell_type": "code",
   "execution_count": 16,
   "metadata": {},
   "outputs": [
    {
     "name": "stdout",
     "output_type": "stream",
     "text": [
      "<class 'sklearn.tree._classes.DecisionTreeClassifier'> mean scores\n",
      "female: 0.4764123851294904, male: 0.4641092462783639\n"
     ]
    }
   ],
   "source": [
    "# Default scores by gender\n",
    "scores = clf.predict_proba(feature_combinations)[:, 1]\n",
    "score_array = make_feature_combination_score_array(feature_combinations, scores)\n",
    "mean_female_score = score_array.sel(gender=0).mean().values\n",
    "mean_male_score = score_array.sel(gender=1).mean().values\n",
    "print(clf.__class__, 'mean scores')\n",
    "print(f'female: {mean_female_score}, male: {mean_male_score}')"
   ]
  },
  {
   "cell_type": "code",
   "execution_count": 17,
   "metadata": {},
   "outputs": [
    {
     "data": {
      "image/png": "[encoded data removed]",
      "text/plain": [
       "<Figure size 1080x720 with 1 Axes>"
      ]
     },
     "metadata": {
      "needs_background": "light"
     },
     "output_type": "display_data"
    }
   ],
   "source": [
    "plt.figure(num=None,figsize=(15,10))\n",
    "tree.plot_tree(clf, fontsize=10)\n",
    "plt.show()"
   ]
  },
  {
   "cell_type": "markdown",
   "metadata": {},
   "source": [
    "### Random Forest Classifier"
   ]
  },
  {
   "cell_type": "code",
   "execution_count": 18,
   "metadata": {},
   "outputs": [
    {
     "data": {
      "text/plain": [
       "array([[0.05320282, 0.94679718],\n",
       "       [0.07791748, 0.92208252],\n",
       "       [1.        , 0.        ],\n",
       "       [0.04080993, 0.95919007],\n",
       "       [0.07791748, 0.92208252]])"
      ]
     },
     "execution_count": 18,
     "metadata": {},
     "output_type": "execute_result"
    }
   ],
   "source": [
    "hyperparams = {\n",
    "    \"n_estimators\": 10, \n",
    "    \"random_state\": model_fitting_seed\n",
    "}\n",
    "clf = RandomForestClassifier(**hyperparams)\n",
    "clf.fit(X_train, y_train)\n",
    "clf.predict_proba(X_validate_first_n)"
   ]
  },
  {
   "cell_type": "code",
   "execution_count": 19,
   "metadata": {},
   "outputs": [
    {
     "data": {
      "text/plain": [
       "0.9484309761670509"
      ]
     },
     "execution_count": 19,
     "metadata": {},
     "output_type": "execute_result"
    }
   ],
   "source": [
    "scores = clf.predict_proba(X_validate)\n",
    "default_scores = scores[:, 1]\n",
    "average_precision_score(y_validate, default_scores)"
   ]
  },
  {
   "cell_type": "code",
   "execution_count": 20,
   "metadata": {},
   "outputs": [
    {
     "name": "stdout",
     "output_type": "stream",
     "text": [
      "<class 'sklearn.ensemble._forest.RandomForestClassifier'> mean scores\n",
      "female: 0.47649681166903024, male: 0.46408985878975895\n"
     ]
    }
   ],
   "source": [
    "# Default scores by gender\n",
    "scores = clf.predict_proba(feature_combinations)[:, 1]\n",
    "score_array = make_feature_combination_score_array(feature_combinations, scores)\n",
    "mean_female_score = score_array.sel(gender=0).mean().values\n",
    "mean_male_score = score_array.sel(gender=1).mean().values\n",
    "print(clf.__class__, 'mean scores')\n",
    "print(f'female: {mean_female_score}, male: {mean_male_score}')"
   ]
  }
 ],
 "metadata": {
  "kernelspec": {
   "display_name": "Python 3 (ipykernel)",
   "language": "python",
   "name": "python3"
  },
  "language_info": {
   "codemirror_mode": {
    "name": "ipython",
    "version": 3
   },
   "file_extension": ".py",
   "mimetype": "text/x-python",
   "name": "python",
   "nbconvert_exporter": "python",
   "pygments_lexer": "ipython3",
   "version": "3.8.4"
  }
 },
 "nbformat": 4,
 "nbformat_minor": 2
}
