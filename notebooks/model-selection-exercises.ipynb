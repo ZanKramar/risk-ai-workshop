{
 "cells": [
  {
   "cell_type": "code",
   "execution_count": 29,
   "metadata": {},
   "outputs": [],
   "source": [
    "import os\n",
    "from pathlib import Path\n",
    "\n",
    "import pandas as pd\n",
    "import numpy as np\n",
    "\n",
    "# The below are packages I used to solve these exercises, but may be safely removed\n",
    "from sklearn_pandas import DataFrameMapper\n",
    "\n",
    "from sklearn.preprocessing import LabelBinarizer, StandardScaler, OneHotEncoder, LabelEncoder\n",
    "from sklearn.linear_model import LogisticRegression\n",
    "from sklearn.ensemble import GradientBoostingClassifier\n",
    "from sklearn.tree import DecisionTreeClassifier\n",
    "from sklearn.metrics import confusion_matrix, log_loss, recall_score, accuracy_score\n",
    "from sklearn.model_selection import train_test_split, GridSearchCV\n",
    "from sklearn.pipeline import Pipeline\n",
    "from sklearn.dummy import DummyClassifier"
   ]
  },
  {
   "cell_type": "code",
   "execution_count": 3,
   "metadata": {},
   "outputs": [
    {
     "name": "stdout",
     "output_type": "stream",
     "text": [
      "C:\\Users\\zankr\\OneDrive\\Dokumenti\\GitHub\\risk-ai-workshop\\notebooks\\data\n"
     ]
    }
   ],
   "source": [
    "datadir = Path(os.getcwd()) / 'data'\n",
    "print(datadir)"
   ]
  },
  {
   "cell_type": "markdown",
   "metadata": {},
   "source": [
    "## Model selection exercise: preprocessing and generalization error for hit rate\n",
    "\n",
    "Difficulty: **\n",
    "\n",
    "Train and select from among at least two classifiers for the hit-rate (fake) data in `notebooks/data/hits.csv` and estimate the selected model's generalization error."
   ]
  },
  {
   "cell_type": "code",
   "execution_count": 96,
   "metadata": {},
   "outputs": [
    {
     "data": {
      "text/html": [
       "<div>\n",
       "<style scoped>\n",
       "    .dataframe tbody tr th:only-of-type {\n",
       "        vertical-align: middle;\n",
       "    }\n",
       "\n",
       "    .dataframe tbody tr th {\n",
       "        vertical-align: top;\n",
       "    }\n",
       "\n",
       "    .dataframe thead th {\n",
       "        text-align: right;\n",
       "    }\n",
       "</style>\n",
       "<table border=\"1\" class=\"dataframe\">\n",
       "  <thead>\n",
       "    <tr style=\"text-align: right;\">\n",
       "      <th></th>\n",
       "      <th>product_type</th>\n",
       "      <th>days</th>\n",
       "      <th>rating</th>\n",
       "      <th>hit</th>\n",
       "    </tr>\n",
       "  </thead>\n",
       "  <tbody>\n",
       "    <tr>\n",
       "      <th>0</th>\n",
       "      <td>property</td>\n",
       "      <td>3</td>\n",
       "      <td>1</td>\n",
       "      <td>0</td>\n",
       "    </tr>\n",
       "    <tr>\n",
       "      <th>1</th>\n",
       "      <td>liability</td>\n",
       "      <td>1</td>\n",
       "      <td>0</td>\n",
       "      <td>0</td>\n",
       "    </tr>\n",
       "    <tr>\n",
       "      <th>2</th>\n",
       "      <td>financial</td>\n",
       "      <td>0</td>\n",
       "      <td>1</td>\n",
       "      <td>0</td>\n",
       "    </tr>\n",
       "    <tr>\n",
       "      <th>3</th>\n",
       "      <td>liability</td>\n",
       "      <td>3</td>\n",
       "      <td>0</td>\n",
       "      <td>0</td>\n",
       "    </tr>\n",
       "    <tr>\n",
       "      <th>4</th>\n",
       "      <td>liability</td>\n",
       "      <td>0</td>\n",
       "      <td>0</td>\n",
       "      <td>1</td>\n",
       "    </tr>\n",
       "    <tr>\n",
       "      <th>5</th>\n",
       "      <td>property</td>\n",
       "      <td>1</td>\n",
       "      <td>1</td>\n",
       "      <td>0</td>\n",
       "    </tr>\n",
       "    <tr>\n",
       "      <th>6</th>\n",
       "      <td>property</td>\n",
       "      <td>2</td>\n",
       "      <td>0</td>\n",
       "      <td>1</td>\n",
       "    </tr>\n",
       "  </tbody>\n",
       "</table>\n",
       "</div>"
      ],
      "text/plain": [
       "  product_type  days  rating  hit\n",
       "0     property     3       1    0\n",
       "1    liability     1       0    0\n",
       "2    financial     0       1    0\n",
       "3    liability     3       0    0\n",
       "4    liability     0       0    1\n",
       "5     property     1       1    0\n",
       "6     property     2       0    1"
      ]
     },
     "execution_count": 96,
     "metadata": {},
     "output_type": "execute_result"
    }
   ],
   "source": [
    "df = pd.read_csv(datadir / 'hits.csv')\n",
    "df.head(7)"
   ]
  },
  {
   "cell_type": "code",
   "execution_count": 104,
   "metadata": {},
   "outputs": [
    {
     "name": "stdout",
     "output_type": "stream",
     "text": [
      "Accuracy of DecisionTreeClassifier is 0.7393320964749536, accuracy of GradientBoostingClassifier is 0.7393320964749536, difference is 0.0 lol\n"
     ]
    }
   ],
   "source": [
    "df = pd.read_csv(datadir / 'hits.csv')\n",
    "df.head(7)\n",
    "le = LabelEncoder()\n",
    "le.fit(df[\"product_type\"].unique())\n",
    "df[\"product_type\"] = le.transform(df[\"product_type\"])\n",
    "xx = df[['product_type', 'days', 'rating']]\n",
    "\n",
    "yy = df[\"hit\"]\n",
    "x_train, x_test, y_train, y_test = train_test_split(xx,yy,test_size=0.2, random_state = 42)\n",
    "\n",
    "model1 = DecisionTreeClassifier()\n",
    "model1.fit(x_train, y_train)\n",
    "predicted1 = model1.predict(x_test)\n",
    "a1 = accuracy_score(predicted1, y_test)\n",
    "\n",
    "model2 = GradientBoostingClassifier()\n",
    "model2.fit(x_train,y_train)\n",
    "predict2 = model2.predict(x_test)\n",
    "a2 = accuracy_score(predict2, y_test)\n",
    "\n",
    "print(f\"Accuracy of DecisionTreeClassifier is {a1}, accuracy of GradientBoostingClassifier is {a2}, difference is {a1-a2} lol\")"
   ]
  },
  {
   "cell_type": "markdown",
   "metadata": {},
   "source": [
    "## Model selection exercise: A simple, high accuracy predictive model\n",
    "\n",
    "Difficulty: *\n",
    "\n",
    "Choose a simple model for the fake data `notebooks/data/lightning.csv` with at least 99% accuracy on the test set. The simpler the better. "
   ]
  },
  {
   "cell_type": "code",
   "execution_count": 92,
   "metadata": {},
   "outputs": [
    {
     "data": {
      "text/plain": [
       "0.9966666666666667"
      ]
     },
     "execution_count": 92,
     "metadata": {},
     "output_type": "execute_result"
    }
   ],
   "source": [
    "df = pd.read_csv(datadir / 'lightning.csv')\n",
    "df.head()\n",
    "xx = df[[\"city\", \"year\"]]\n",
    "yy = df[\"lightning_strike\"]\n",
    "x_train, x_test, y_train, y_test = train_test_split(xx,yy, test_size= 0.2)\n",
    "model = DummyClassifier(strategy='constant', constant=0)\n",
    "model.fit(x_train, y_train)\n",
    "predicted = model.predict(x_test)\n",
    "accuracy_score(predicted, y_test)\n"
   ]
  }
 ],
 "metadata": {
  "kernelspec": {
   "display_name": "Python 3 (ipykernel)",
   "language": "python",
   "name": "python3"
  },
  "language_info": {
   "codemirror_mode": {
    "name": "ipython",
    "version": 3
   },
   "file_extension": ".py",
   "mimetype": "text/x-python",
   "name": "python",
   "nbconvert_exporter": "python",
   "pygments_lexer": "ipython3",
   "version": "3.8.4"
  }
 },
 "nbformat": 4,
 "nbformat_minor": 2
}
